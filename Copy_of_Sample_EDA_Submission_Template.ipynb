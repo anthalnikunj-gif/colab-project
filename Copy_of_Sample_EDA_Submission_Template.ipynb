{
  "nbformat": 4,
  "nbformat_minor": 0,
  "metadata": {
    "colab": {
      "private_outputs": true,
      "provenance": [],
      "collapsed_sections": [
        "gIfDvo9L0UH2"
      ],
      "include_colab_link": true
    },
    "kernelspec": {
      "name": "python3",
      "display_name": "Python 3"
    },
    "language_info": {
      "name": "python"
    }
  },
  "cells": [
    {
      "cell_type": "markdown",
      "metadata": {
        "id": "view-in-github",
        "colab_type": "text"
      },
      "source": [
        "<a href=\"https://colab.research.google.com/github/anthalnikunj-gif/colab-project/blob/main/Copy_of_Sample_EDA_Submission_Template.ipynb\" target=\"_parent\"><img src=\"https://colab.research.google.com/assets/colab-badge.svg\" alt=\"Open In Colab\"/></a>"
      ]
    },
    {
      "cell_type": "code",
      "source": [],
      "metadata": {
        "id": "I1apcow5dxii"
      },
      "execution_count": null,
      "outputs": []
    },
    {
      "cell_type": "markdown",
      "source": [
        "# **Project Name**    - AirBnb Bookings Analysis\n"
      ],
      "metadata": {
        "id": "vncDsAP0Gaoa"
      }
    },
    {
      "cell_type": "markdown",
      "source": [
        "# Name - karanbir singh"
      ],
      "metadata": {
        "id": "ACwJ4q471n7v"
      }
    },
    {
      "cell_type": "markdown",
      "source": [
        "##### **Project Type**    - Exploratory Data Analysis\n",
        "##### **Contribution**    - Individual\n",
        "##### **Team Member 1 -**\n",
        "##### **Team Member 2 -**\n",
        "##### **Team Member 3 -**\n",
        "##### **Team Member 4 -**"
      ],
      "metadata": {
        "id": "beRrZCGUAJYm"
      }
    },
    {
      "cell_type": "markdown",
      "source": [
        "# **Project Summary -**\n",
        "\n",
        "This dataset represents Airbnb listings from New York City, providing detailed information about various accommodations available across the city. Each row in the dataset captures an individual listing with attributes such as listing ID, name, host information, location, room type, price, availability, and review data.\n",
        "\n",
        "This dataset has around 49,000 observations in it with 16 columns and it is a mix of categorical and numeric values.This dataset has around 49,000 observations in it with 16 columns and it is a mix of categorical and numeric values.\n",
        "\n",
        "**Dataset Overview**\n",
        "\n",
        "**Context**: The dataset represents Airbnb listings in New York City.\n",
        "\n",
        "**Rows (listings)**: Each row corresponds to a unique Airbnb listing.\n",
        "\n",
        "**Columns (features)**: 16 fields describing listings.\n",
        "\n",
        "#**1. Location and Distribution**\n",
        "\n",
        "The listings span multiple boroughs of New York City, with a significant concentration in Manhattan and Brooklyn, followed by smaller representations from Queens. Manhattan neighborhoods include Harlem, Hell’s Kitchen, East Village, Upper West Side, and Midtown, whereas Brooklyn listings are primarily in Bedford-Stuyvesant, Williamsburg, Park Slope, and Clinton Hill. This distribution reflects Airbnb's popularity in both central tourist areas and culturally rich, residential neighborhoods.\n",
        "\n",
        "#**2. Room Types**\n",
        "The dataset includes three room types:\n",
        "\n",
        "* **Entire home/apartment** – Typically more expensive, offering privacy and suitable for families or groups. Examples include listings in Midtown, Fort Greene, and East Harlem.\n",
        "\n",
        "* **Private room** – The most common type, catering to solo travelers or couples. These are often located within the host’s home and are widely available across all boroughs.\n",
        "\n",
        "* **Shared room** – Least common and usually the most budget-friendly, appealing to travelers comfortable with minimal privacy. These are found mainly in Manhattan.\n",
        "\n",
        "#**3. Pricing and Affordability**\n",
        "Prices vary widely, reflecting both the type of accommodation and its location. Entire apartments in prime areas like Chelsea and Midtown can cost upwards of $200–$300 per night, while private rooms in outer boroughs can be found for as low as $35–$60. Some luxury listings, such as a full apartment in Brooklyn Heights, are priced up to $800 per night, suggesting they are geared toward premium clientele.\n",
        "\n",
        "#**4. Host Engagement and Listings Count**\n",
        "\n",
        "Hosts in the dataset range from casual hosts with a single listing to more active hosts managing multiple properties. For example, host Lisel has several listings in Park Slope under slightly varied room types and names. Some hosts, like those offering B&B-style accommodations, have listings with high review counts, indicating long-term engagement and consistent bookings.\n",
        "\n",
        "#**5. Availability and Minimum Nights**\n",
        "Most listings have high availability, with many showing 365 days open, though some listings restrict stays to minimum durations, particularly those with higher prices or managed by active hosts. Minimum night stays range from 1 to 90 nights, with some listings, especially entire apartments, requiring longer minimum stays. This could be due to NYC regulations or host preferences.\n",
        "\n",
        "#**6. Reviews and Activity**\n",
        "Review metrics such as number_of_reviews and reviews_per_month help gauge listing popularity and guest activity. Listings with hundreds of reviews and high monthly frequencies (e.g., 4.7 reviews/month) indicate high demand and guest satisfaction. Others, particularly new or rarely booked listings, show 0 reviews, often paired with no last review date, hinting at inactivity or recent posting.\n",
        "\n",
        "#**7. Trends and Observations**\n",
        "* **East Village** and **Williamsburg** are notable for a mix of listing types, including unique lofts and artist residences, often with appealing aesthetic features aimed at younger travelers.\n",
        "\n",
        "* **Hell’s Kitchen** and **Upper West Side** display a balanced mix of affordable private rooms and high-end entire apartments, drawing both budget travelers and families.\n",
        "\n",
        "* Some listings have historical significance or themed descriptions, such as \"Greenpoint Place…Has It All!\" or \"ORIGINAL BROOKLYN LOFT\", highlighting the creative approach of hosts to attract bookings.\n",
        "\n",
        "#**8. Data Limitations**\n",
        "Several entries have **missing data**, particularly in the last_review and reviews_per_month fields, which may skew analysis of recent activity. Additionally, pricing and availability can change frequently, so the dataset represents a snapshot in time, not a live market view.\n",
        "\n",
        "#**Data Quality Considerations**\n",
        "* Missing values in last_review and reviews_per_month.\n",
        "\n",
        "* Some listings have 0 reviews – might be new or inactive.\n",
        "\n",
        "* Long-tailed distributions expected for price, reviews, and host_listings_count."
      ],
      "metadata": {
        "id": "FJNUwmbgGyua"
      }
    },
    {
      "cell_type": "markdown",
      "source": [
        "Write the summary here within 500-600 words."
      ],
      "metadata": {
        "id": "F6v_1wHtG2nS"
      }
    },
    {
      "cell_type": "markdown",
      "source": [
        "# **GitHub Link -**"
      ],
      "metadata": {
        "id": "w6K7xa23Elo4"
      }
    },
    {
      "cell_type": "markdown",
      "source": [
        "Provide your GitHub Link here.https://github.com/AryanuDA/Capstone_Projects/blob/main/Copy_of_Sample_EDA_Submission_Template.ipynb"
      ],
      "metadata": {
        "id": "h1o69JH3Eqqn"
      }
    },
    {
      "cell_type": "markdown",
      "source": [
        "# **Problem Statement**\n"
      ],
      "metadata": {
        "id": "yQaldy8SH6Dl"
      }
    },
    {
      "cell_type": "markdown",
      "source": [
        "**Write Problem Statement Here.**\n",
        "\n",
        "With the increasing popularity of short-term rental platforms like Airbnb, understanding the dynamics of listings in a large urban environment such as **New York City** is essential for stakeholders including hosts, tourists, city regulators, and researchers. This dataset contains detailed information about Airbnb listings across NYC’s five boroughs (Manhattan, Brooklyn, Queens, The Bronx, and Staten Island), including attributes like room type, price, availability, location, and number of reviews.\n",
        "\n",
        "The goal of this project is to perform **exploratory data analysis (EDA)** to uncover insights into Airbnb’s presence in New York City."
      ],
      "metadata": {
        "id": "DpeJGUA3kjGy"
      }
    },
    {
      "cell_type": "markdown",
      "source": [
        "#### **Define Your Business Objective?**"
      ],
      "metadata": {
        "id": "PH-0ReGfmX4f"
      }
    },
    {
      "cell_type": "markdown",
      "source": [
        "Answer Here.\n",
        "\n",
        "* **Optimize operational efficiency** by automating data-driven decision-making.\n",
        "\n",
        "* **Increase revenue** by accurately forecasting customer behavior or demand.\n",
        "\n",
        "* **Enhance customer satisfaction** through personalized recommendations or services.\n",
        "\n",
        "* **Mitigate risk** by predicting potential failures, fraud, or financial anomalies.\n",
        "\n",
        "* **Support strategic planning** through insights generated from historical and real-time data."
      ],
      "metadata": {
        "id": "PhDvGCAqmjP1"
      }
    },
    {
      "cell_type": "markdown",
      "source": [
        "# **General Guidelines** : -  "
      ],
      "metadata": {
        "id": "mDgbUHAGgjLW"
      }
    },
    {
      "cell_type": "markdown",
      "source": [
        "1.   Well-structured, formatted, and commented code is required.\n",
        "2.   Exception Handling, Production Grade Code & Deployment Ready Code will be a plus. Those students will be awarded some additional credits.\n",
        "     \n",
        "     The additional credits will have advantages over other students during Star Student selection.\n",
        "       \n",
        "             [ Note: - Deployment Ready Code is defined as, the whole .ipynb notebook should be executable in one go\n",
        "                       without a single error logged. ]\n",
        "\n",
        "3.   Each and every logic should have proper comments.\n",
        "4. You may add as many number of charts you want. Make Sure for each and every chart the following format should be answered.\n",
        "        \n",
        "\n",
        "```\n",
        "# Chart visualization code\n",
        "```\n",
        "            \n",
        "\n",
        "*   Why did you pick the specific chart?\n",
        "*   What is/are the insight(s) found from the chart?\n",
        "* Will the gained insights help creating a positive business impact?\n",
        "Are there any insights that lead to negative growth? Justify with specific reason.\n",
        "\n",
        "5. You have to create at least 20 logical & meaningful charts having important insights.\n",
        "\n",
        "\n",
        "[ Hints : - Do the Vizualization in  a structured way while following \"UBM\" Rule.\n",
        "\n",
        "U - Univariate Analysis,\n",
        "\n",
        "B - Bivariate Analysis (Numerical - Categorical, Numerical - Numerical, Categorical - Categorical)\n",
        "\n",
        "M - Multivariate Analysis\n",
        " ]\n",
        "\n",
        "\n",
        "\n"
      ],
      "metadata": {
        "id": "ZrxVaUj-hHfC"
      }
    },
    {
      "cell_type": "markdown",
      "source": [
        "# ***Let's Begin !***"
      ],
      "metadata": {
        "id": "O_i_v8NEhb9l"
      }
    },
    {
      "cell_type": "markdown",
      "source": [
        "## ***1. Know Your Data***"
      ],
      "metadata": {
        "id": "HhfV-JJviCcP"
      }
    },
    {
      "cell_type": "markdown",
      "source": [
        "### Import Libraries"
      ],
      "metadata": {
        "id": "Y3lxredqlCYt"
      }
    },
    {
      "cell_type": "code",
      "source": [
        "# Import Libraries\n",
        "import pandas as pd\n",
        "import numpy as np\n",
        "import seaborn as sns\n",
        "import matplotlib.pyplot as plt"
      ],
      "metadata": {
        "id": "M8Vqi-pPk-HR"
      },
      "execution_count": null,
      "outputs": []
    },
    {
      "cell_type": "markdown",
      "source": [
        "### Dataset Loading"
      ],
      "metadata": {
        "id": "3RnN4peoiCZX"
      }
    },
    {
      "cell_type": "code",
      "source": [
        "# Load Dataset\n",
        "data = pd.read_csv('/content/Airbnb NYC 2019.csv')"
      ],
      "metadata": {
        "id": "4CkvbW_SlZ_R"
      },
      "execution_count": null,
      "outputs": []
    },
    {
      "cell_type": "markdown",
      "source": [
        "### Dataset First View"
      ],
      "metadata": {
        "id": "x71ZqKXriCWQ"
      }
    },
    {
      "cell_type": "code",
      "source": [
        "# Dataset First Look\n",
        "data.head()\n"
      ],
      "metadata": {
        "id": "LWNFOSvLl09H",
        "collapsed": true
      },
      "execution_count": null,
      "outputs": []
    },
    {
      "cell_type": "code",
      "source": [
        "data.tail()"
      ],
      "metadata": {
        "id": "-YVvwX7Ol1zN"
      },
      "execution_count": null,
      "outputs": []
    },
    {
      "cell_type": "markdown",
      "source": [
        "### Dataset Rows & Columns count"
      ],
      "metadata": {
        "id": "7hBIi_osiCS2"
      }
    },
    {
      "cell_type": "code",
      "source": [
        "# Dataset Rows & Columns count\n",
        "data.shape"
      ],
      "metadata": {
        "id": "Kllu7SJgmLij"
      },
      "execution_count": null,
      "outputs": []
    },
    {
      "cell_type": "markdown",
      "source": [
        "### Dataset Information"
      ],
      "metadata": {
        "id": "JlHwYmJAmNHm"
      }
    },
    {
      "cell_type": "code",
      "source": [
        "# Dataset Info\n",
        "data.info()"
      ],
      "metadata": {
        "id": "e9hRXRi6meOf"
      },
      "execution_count": null,
      "outputs": []
    },
    {
      "cell_type": "markdown",
      "source": [
        "#### Duplicate Values"
      ],
      "metadata": {
        "id": "35m5QtbWiB9F"
      }
    },
    {
      "cell_type": "code",
      "source": [
        "# Dataset Duplicate Value Count\n",
        "data.duplicated().sum()"
      ],
      "metadata": {
        "id": "1sLdpKYkmox0"
      },
      "execution_count": null,
      "outputs": []
    },
    {
      "cell_type": "markdown",
      "source": [
        "#### Missing Values/Null Values"
      ],
      "metadata": {
        "id": "PoPl-ycgm1ru"
      }
    },
    {
      "cell_type": "code",
      "source": [
        "# Missing Values/Null Values Count\n",
        "data.isnull().sum()"
      ],
      "metadata": {
        "id": "GgHWkxvamxVg"
      },
      "execution_count": null,
      "outputs": []
    },
    {
      "cell_type": "code",
      "source": [
        "# Visualizing the missing values\n",
        "sns.heatmap(data.isna())"
      ],
      "metadata": {
        "id": "3q5wnI3om9sJ"
      },
      "execution_count": null,
      "outputs": []
    },
    {
      "cell_type": "markdown",
      "source": [
        "### What did you know about your dataset?"
      ],
      "metadata": {
        "id": "H0kj-8xxnORC"
      }
    },
    {
      "cell_type": "markdown",
      "source": [
        "Answer Here- It contains 14 columns and multiple numeric/categorical variables.\n",
        "\n",
        "Some columns like cp, thal, slope, etc. are categorical, while others like age, chol, trestbps, etc. are numerical.\n",
        "\n",
        "There are some missing or null values in 'name','host_name','last_review','reviews_per_month' columns. I need to deal with these missing values with the help of data wrangling."
      ],
      "metadata": {
        "id": "gfoNAAC-nUe_"
      }
    },
    {
      "cell_type": "markdown",
      "source": [
        "## ***2. Understanding Your Variables***"
      ],
      "metadata": {
        "id": "nA9Y7ga8ng1Z"
      }
    },
    {
      "cell_type": "code",
      "source": [
        "# Dataset Columns\n",
        "data.columns"
      ],
      "metadata": {
        "id": "j7xfkqrt5Ag5"
      },
      "execution_count": null,
      "outputs": []
    },
    {
      "cell_type": "code",
      "source": [
        "# presenting numerical data\n",
        "num_data=data.select_dtypes(include=['int64','float64'])\n",
        "num_data"
      ],
      "metadata": {
        "id": "TFfKlVBEmyXy"
      },
      "execution_count": null,
      "outputs": []
    },
    {
      "cell_type": "code",
      "source": [
        "# presenting categorical data\n",
        "cat_data=data.select_dtypes(include='object')\n",
        "cat_data"
      ],
      "metadata": {
        "id": "DYCmjDO6m00J"
      },
      "execution_count": null,
      "outputs": []
    },
    {
      "cell_type": "code",
      "source": [
        "# Dataset Describe\n",
        "data.describe()"
      ],
      "metadata": {
        "id": "DnOaZdaE5Q5t"
      },
      "execution_count": null,
      "outputs": []
    },
    {
      "cell_type": "markdown",
      "source": [
        "### Variables Description"
      ],
      "metadata": {
        "id": "PBTbrJXOngz2"
      }
    },
    {
      "cell_type": "markdown",
      "source": [
        "Answer Here- It contains 14 columns and multiple numeric/categorical variables.\n",
        "\n",
        "**id**- Unique id\n",
        "\n",
        "**name**- Name of the listing\n",
        "\n",
        "**host_id** - Unique host id\n",
        "\n",
        "**host_name** - Name of the host\n",
        "\n",
        "**neighbourhood_group** - Location\n",
        "\n",
        "**neighbourhood** - Area\n",
        "\n",
        "**latitude** - Latitude range\n",
        "\n",
        "**longitude** - Longitude range\n",
        "\n",
        "**room_type** - Type of listing\n",
        "\n",
        "**price** - Price of Listing\n",
        "\n",
        "**minimum_night** - Minimum nights to be paid for\n",
        "\n",
        "**Number_of_reviews** - Number of Reviews\n",
        "\n",
        "**last_review** - Content of the last review\n",
        "\n",
        "**reviews_per_month** - Number of checks per months\n",
        "\n",
        "**calculated_host_listing_count** - Total count\n",
        "\n",
        "**avialability_365** - Availability around the year"
      ],
      "metadata": {
        "id": "aJV4KIxSnxay"
      }
    },
    {
      "cell_type": "markdown",
      "source": [],
      "metadata": {
        "id": "2XFJlY_ypHF8"
      }
    },
    {
      "cell_type": "markdown",
      "source": [],
      "metadata": {
        "id": "d8512fHlpHCj"
      }
    },
    {
      "cell_type": "markdown",
      "source": [
        "### Check Unique Values for each variable."
      ],
      "metadata": {
        "id": "u3PMJOP6ngxN"
      }
    },
    {
      "cell_type": "code",
      "source": [
        "# Check Unique Values for each variable.\n",
        "data.nunique()"
      ],
      "metadata": {
        "id": "zms12Yq5n-jE"
      },
      "execution_count": null,
      "outputs": []
    },
    {
      "cell_type": "markdown",
      "source": [
        "## 3. ***Data Wrangling***"
      ],
      "metadata": {
        "id": "dauF4eBmngu3"
      }
    },
    {
      "cell_type": "markdown",
      "source": [
        "### Data Wrangling Code"
      ],
      "metadata": {
        "id": "bKJF3rekwFvQ"
      }
    },
    {
      "cell_type": "code",
      "source": [
        "# Write your code to make your dataset analysis ready.\n",
        "# name has 16 missing values and host_name has 21 missing values\n",
        "data['name'].dtypes"
      ],
      "metadata": {
        "id": "wk-9a2fpoLcV"
      },
      "execution_count": null,
      "outputs": []
    },
    {
      "cell_type": "code",
      "source": [
        "# replace with mode(most frequently occuring)\n",
        "data['name'].mode()"
      ],
      "metadata": {
        "id": "WStQwF21BFdb"
      },
      "execution_count": null,
      "outputs": []
    },
    {
      "cell_type": "code",
      "source": [
        "#replacing with missing values with mode\n",
        "data['name'].fillna(data['name'].mode()[0],inplace=True)"
      ],
      "metadata": {
        "id": "HBLs3WQsBY5C"
      },
      "execution_count": null,
      "outputs": []
    },
    {
      "cell_type": "code",
      "source": [
        "# sum of missing values in name variable\n",
        "data['name'].isnull().sum()"
      ],
      "metadata": {
        "id": "ol6UrV6fB98e"
      },
      "execution_count": null,
      "outputs": []
    },
    {
      "cell_type": "code",
      "source": [
        "# replace with mode(most frequently occuring)\n",
        "data['host_name'].mode()"
      ],
      "metadata": {
        "id": "O3ri1mCrCGCf"
      },
      "execution_count": null,
      "outputs": []
    },
    {
      "cell_type": "code",
      "source": [
        "# sum of missing values in host_name variable\n",
        "data['host_name'].fillna(data['host_name'].mode()[0],inplace=True)"
      ],
      "metadata": {
        "id": "ev2YJV7iCRvk"
      },
      "execution_count": null,
      "outputs": []
    },
    {
      "cell_type": "code",
      "source": [
        "# sum of null values\n",
        "data['host_name'].isnull().sum()"
      ],
      "metadata": {
        "id": "rtOIqF__CXk8"
      },
      "execution_count": null,
      "outputs": []
    },
    {
      "cell_type": "markdown",
      "source": [
        "### What all manipulations have you done and insights you found?"
      ],
      "metadata": {
        "id": "MSa1f5Uengrz"
      }
    },
    {
      "cell_type": "markdown",
      "source": [
        "Answer Here.\n",
        "* I imported all the libraries that were needed and load the data.\n",
        "* I pulled out the statistics report of the data.\n",
        "* I found missing values ​​in some variables which I dealt with through data wrangling process.\n"
      ],
      "metadata": {
        "id": "LbyXE7I1olp8"
      }
    },
    {
      "cell_type": "markdown",
      "source": [
        "## ***4. Data Vizualization, Storytelling & Experimenting with charts : Understand the relationships between variables***"
      ],
      "metadata": {
        "id": "GF8Ens_Soomf"
      }
    },
    {
      "cell_type": "markdown",
      "source": [
        "#### Chart - 1"
      ],
      "metadata": {
        "id": "0wOQAZs5pc--"
      }
    },
    {
      "cell_type": "code",
      "source": [
        "# Chart - 1 visualization code\n",
        "#Missing Values\n",
        "plt.figure(figsize=(10, 6))\n",
        "sns.heatmap(data.isnull(), cbar=False, cmap='viridis')\n",
        "plt.title(\"Missing Values Heatmap\")\n",
        "plt.show()\n"
      ],
      "metadata": {
        "id": "7v_ESjsspbW7"
      },
      "execution_count": null,
      "outputs": []
    },
    {
      "cell_type": "markdown",
      "source": [
        "##### 1. Why did you pick the specific chart?"
      ],
      "metadata": {
        "id": "K5QZ13OEpz2H"
      }
    },
    {
      "cell_type": "markdown",
      "source": [
        "Answer Here.A heatmap showing where null/missing values exist in the dataset."
      ],
      "metadata": {
        "id": "XESiWehPqBRc"
      }
    },
    {
      "cell_type": "markdown",
      "source": [
        "##### 2. What is/are the insight(s) found from the chart?"
      ],
      "metadata": {
        "id": "lQ7QKXXCp7Bj"
      }
    },
    {
      "cell_type": "markdown",
      "source": [
        "Answer Here- For Airbnb NYC 2019, it's common to see missing values in reviews_per_month, last_review, and potentially others like name or host_name."
      ],
      "metadata": {
        "id": "C_j1G7yiqdRP"
      }
    },
    {
      "cell_type": "markdown",
      "source": [
        "##### 3. Will the gained insights help creating a positive business impact?\n",
        "Are there any insights that lead to negative growth? Justify with specific reason."
      ],
      "metadata": {
        "id": "448CDAPjqfQr"
      }
    },
    {
      "cell_type": "markdown",
      "source": [
        "Answer Here- Yes — insights about missing data absolutely can create a positive business impact, especially when handled strategically.\n",
        "\n",
        "here are the insights that could lead to negative growth\n",
        "\n",
        "Missing Values in reviews_per_month and last_review Columns\n",
        "\n",
        "Many listings have missing values in these review-related columns."
      ],
      "metadata": {
        "id": "3cspy4FjqxJW"
      }
    },
    {
      "cell_type": "markdown",
      "source": [
        "#### Chart - 2"
      ],
      "metadata": {
        "id": "KSlN3yHqYklG"
      }
    },
    {
      "cell_type": "code",
      "source": [
        "# Chart - 2 visualization code\n",
        "#Room Type Distribution\n",
        "plt.figure(figsize=(8, 6))\n",
        "sns.countplot(x='room_type', data=data)\n",
        "plt.title(\"Room Type Distribution\")\n",
        "plt.xlabel(\"Room Type\")\n",
        "plt.ylabel(\"Count\")\n",
        "plt.show()"
      ],
      "metadata": {
        "id": "R4YgtaqtYklH"
      },
      "execution_count": null,
      "outputs": []
    },
    {
      "cell_type": "markdown",
      "source": [
        "##### 1. Why did you pick the specific chart?"
      ],
      "metadata": {
        "id": "t6dVpIINYklI"
      }
    },
    {
      "cell_type": "markdown",
      "source": [
        "Answer Here. I picked the room type distribution chart because it’s one of the most fundamental and informative plots when exploring Airbnb data."
      ],
      "metadata": {
        "id": "5aaW0BYyYklI"
      }
    },
    {
      "cell_type": "markdown",
      "source": [
        "##### 2. What is/are the insight(s) found from the chart?"
      ],
      "metadata": {
        "id": "ijmpgYnKYklI"
      }
    },
    {
      "cell_type": "markdown",
      "source": [
        "Answer Here- 1. Dominance of Entire Home/Apartment Listings\n",
        "\n",
        "2. Significant Share of Private Rooms\n",
        "\n",
        "3. Low Proportion of Shared Rooms\n",
        "\n"
      ],
      "metadata": {
        "id": "PSx9atu2YklI"
      }
    },
    {
      "cell_type": "markdown",
      "source": [
        "##### 3. Will the gained insights help creating a positive business impact?\n",
        "Are there any insights that lead to negative growth? Justify with specific reason."
      ],
      "metadata": {
        "id": "-JiQyfWJYklI"
      }
    },
    {
      "cell_type": "markdown",
      "source": [
        "Answer Here - Yes- Understanding this distribution helps hosts decide which type of listing to create or improve.\n",
        "\n",
        "If the majority of listings are entire homes, and demand for entire homes drops (due to rising prices, regulations, or competition from hotels), hosts might remove listings or stop adding new ones, causing a negative growth in overall active listings."
      ],
      "metadata": {
        "id": "BcBbebzrYklV"
      }
    },
    {
      "cell_type": "markdown",
      "source": [
        "#### Chart - 3"
      ],
      "metadata": {
        "id": "EM7whBJCYoAo"
      }
    },
    {
      "cell_type": "code",
      "source": [
        "# Chart - 3 visualization code\n",
        "#Listings by Neighbourhood Group\n",
        "plt.figure(figsize=(10, 6))\n",
        "sns.countplot(x='neighbourhood_group', data=data)\n",
        "plt.title(\"Listings by Neighbourhood Group\")\n",
        "plt.xlabel(\"Neighbourhood Group\")\n",
        "plt.ylabel(\"Count\")\n",
        "plt.show()"
      ],
      "metadata": {
        "id": "t6GMdE67YoAp"
      },
      "execution_count": null,
      "outputs": []
    },
    {
      "cell_type": "markdown",
      "source": [
        "##### 1. Why did you pick the specific chart?"
      ],
      "metadata": {
        "id": "fge-S5ZAYoAp"
      }
    },
    {
      "cell_type": "markdown",
      "source": [
        "Answer Here.I picked the Listings by Neighbourhood Group plot because it helps reveal how Airbnb listings are distributed geographically across major areas of New York City."
      ],
      "metadata": {
        "id": "5dBItgRVYoAp"
      }
    },
    {
      "cell_type": "markdown",
      "source": [
        "##### 2. What is/are the insight(s) found from the chart?"
      ],
      "metadata": {
        "id": "85gYPyotYoAp"
      }
    },
    {
      "cell_type": "markdown",
      "source": [
        "Answer Here 1. Manhattan has the highest number of listings compared to other boroughs, indicating it’s the most popular and sought-after area for Airbnb rentals.\n",
        "\n",
        "2. Brooklyn comes next in listing volume, showing it’s also a highly active Airbnb market. Brooklyn’s growing popularity among visitors and locals likely drives this.\n",
        "\n",
        "3. These boroughs have significantly fewer listings, suggesting less Airbnb market penetration or possibly fewer tourist attractions compared to Manhattan and Brooklyn.\n",
        "\n",
        "4. The lower listing counts in Queens, Bronx, and Staten Island could mean untapped opportunities for hosts and Airbnb to expand their presence.\n",
        "\n",
        "5. High concentration in Manhattan and Brooklyn might also indicate strong competition among hosts, possibly affecting pricing and occupancy rates.\n",
        "\n",
        "6. Differences in listing counts could reflect local housing regulations or neighborhood desirability, impacting growth or restrictions in certain areas."
      ],
      "metadata": {
        "id": "4jstXR6OYoAp"
      }
    },
    {
      "cell_type": "markdown",
      "source": [
        "##### 3. Will the gained insights help creating a positive business impact?\n",
        "Are there any insights that lead to negative growth? Justify with specific reason."
      ],
      "metadata": {
        "id": "RoGjAbkUYoAp"
      }
    },
    {
      "cell_type": "markdown",
      "source": [
        "Answer Here- Overall, the plot highlights where Airbnb is currently strongest in NYC and where there might be room for growth or challenges related to market saturation.\n",
        "\n",
        "* High saturation and competition can decrease profitability, causing hosts to exit the market.\n",
        "\n",
        "* Regulatory crackdowns reduce listings and deter new hosts.\n",
        "\n",
        "* Low demand areas remain underdeveloped for Airbnb, limiting expansion.\n",
        "\n",
        "These factors, reflected by the uneven distribution of listings, can collectively contribute to negative growth trends in certain boroughs or overall market slowdown."
      ],
      "metadata": {
        "id": "zfJ8IqMcYoAp"
      }
    },
    {
      "cell_type": "markdown",
      "source": [
        "#### Chart - 4"
      ],
      "metadata": {
        "id": "4Of9eVA-YrdM"
      }
    },
    {
      "cell_type": "code",
      "source": [
        "# Chart - 4 visualization code\n",
        "# Price Distribution (capped to $500 for visualization)\n",
        "sns.histplot(data[data['price'] < 500]['price'], bins=50, kde=True)\n",
        "plt.title(\"Price Distribution (< $500)\")\n",
        "plt.xlabel(\"Price\")\n",
        "plt.show()"
      ],
      "metadata": {
        "id": "irlUoxc8YrdO"
      },
      "execution_count": null,
      "outputs": []
    },
    {
      "cell_type": "markdown",
      "source": [
        "##### 1. Why did you pick the specific chart?"
      ],
      "metadata": {
        "id": "iky9q4vBYrdO"
      }
    },
    {
      "cell_type": "markdown",
      "source": [
        "Answer Here. I pick this char because price distribution is fundamental to Airbnb’s business dynamics, making this chart essential for exploratory data analysis and deriving meaningful insights about market behavior."
      ],
      "metadata": {
        "id": "aJRCwT6DYrdO"
      }
    },
    {
      "cell_type": "markdown",
      "source": [
        "##### 2. What is/are the insight(s) found from the chart?"
      ],
      "metadata": {
        "id": "F6T5p64dYrdO"
      }
    },
    {
      "cell_type": "markdown",
      "source": [
        "Answer Here\n",
        "* The majority of listings are priced below $200, with a high concentration around lower price ranges. This indicates most hosts set competitive, affordable prices to attract guests.\n",
        "\n",
        "* There is a long tail of listings priced closer to $500, representing luxury or premium properties. These are fewer but may generate higher revenue per booking.\n",
        "\n",
        "* The prevalence of lower-priced listings suggests the market is accessible to a wide range of guests, which is good for volume growth.\n",
        "\n",
        "* If most listings cluster in the lower price range, hosts may face pressure to keep prices low due to competition, which might limit revenue growth and discourage investment in higher-quality listings."
      ],
      "metadata": {
        "id": "Xx8WAJvtYrdO"
      }
    },
    {
      "cell_type": "markdown",
      "source": [
        "##### 3. Will the gained insights help creating a positive business impact?\n",
        "Are there any insights that lead to negative growth? Justify with specific reason."
      ],
      "metadata": {
        "id": "y-Ehk30pYrdP"
      }
    },
    {
      "cell_type": "markdown",
      "source": [
        "Answer Here- Yes, the insights gained from the Price Distribution (capped to $500) plot can help create a positive business impact, for several reasons:\n",
        "\n",
        "* Hosts can benchmark their prices against the most common ranges, ensuring competitiveness.\n",
        "\n",
        "They may also identify underpriced or overpriced listings and adjust accordingly to maximize occupancy and revenue.\n",
        "\n",
        "* Airbnb can tailor marketing strategies based on demand in each price range (e.g., promoting budget stays or luxury experiences).\n",
        "\n",
        "This allows better targeting of different customer segments—budget travelers vs. premium guests.\n",
        "\n",
        "* Understanding where the majority of revenue-generating listings fall helps Airbnb optimize service fees, suggest smart pricing to hosts, and forecast earnings.\n",
        "\n",
        "* Airbnb could introduce policies or features like “smart pricing tools” or set thresholds for service quality based on price bands to enhance customer experience.\n",
        "\n",
        "Yes, the Price Distribution (capped to $500) plot does reveal potential insights that could lead to negative growth if not addressed. Here's how:\n",
        "\n",
        "1. High Price Variability and Outliers\n",
        "2. Undervalued Listings\n",
        "3. Customer Mismatch\n",
        "4. Misleading Price Caps\n",
        "\n",
        "If the pricing trends are not actively monitored and corrected, Airbnb and hosts risk low occupancy, uncompetitive listings, and loss of guest trust, all of which can contribute to negative growth over time. It's crucial to align pricing with value, demand, and guest expectations to avoid these pitfalls."
      ],
      "metadata": {
        "id": "jLNxxz7MYrdP"
      }
    },
    {
      "cell_type": "markdown",
      "source": [
        "#### Chart - 5"
      ],
      "metadata": {
        "id": "bamQiAODYuh1"
      }
    },
    {
      "cell_type": "code",
      "source": [
        "# Chart - 5 visualization code\n",
        "# Correlation Matrix\n",
        "numerical = data.select_dtypes(include='number')\n",
        "plt.figure(figsize=(12, 8))\n",
        "sns.heatmap(numerical.corr(), annot=True, cmap='coolwarm', fmt='.2f')\n",
        "plt.title(\"Correlation Matrix\")\n",
        "plt.show()"
      ],
      "metadata": {
        "id": "TIJwrbroYuh3"
      },
      "execution_count": null,
      "outputs": []
    },
    {
      "cell_type": "markdown",
      "source": [
        "##### 1. Why did you pick the specific chart?"
      ],
      "metadata": {
        "id": "QHF8YVU7Yuh3"
      }
    },
    {
      "cell_type": "markdown",
      "source": [
        "Answer Here. The correlation matrix was specifically chosen because it is a powerful tool for exploratory data analysis (EDA)"
      ],
      "metadata": {
        "id": "dcxuIMRPYuh3"
      }
    },
    {
      "cell_type": "markdown",
      "source": [
        "##### 2. What is/are the insight(s) found from the chart?"
      ],
      "metadata": {
        "id": "GwzvFGzlYuh3"
      }
    },
    {
      "cell_type": "markdown",
      "source": [
        "Answer Here-  Very Weak Correlation Between Price and Other Features\n",
        "\n",
        "* price has weak correlation (close to 0) with most numerical variables like:\n",
        "\n",
        "* number_of_reviews\n",
        "\n",
        "* reviews_per_month\n",
        "\n",
        "* availability_365\n",
        "\n",
        "Insight: Price is not strongly influenced by these features alone, indicating that other factors (like room type, location, host popularity, etc.) likely play a bigger role in pricing strategy."
      ],
      "metadata": {
        "id": "uyqkiB8YYuh3"
      }
    },
    {
      "cell_type": "markdown",
      "source": [
        "##### 3. Will the gained insights help creating a positive business impact?\n",
        "Are there any insights that lead to negative growth? Justify with specific reason."
      ],
      "metadata": {
        "id": "qYpmQ266Yuh3"
      }
    },
    {
      "cell_type": "markdown",
      "source": [
        "Answer Here- Yes-This insight will help shift focus to feature engineering, using external data or advanced models to uncover hidden patterns.\n",
        "\n",
        "\n",
        "1. Negative Correlation Between minimum_nights and availability_365\n",
        "2. Weak or No Correlation Between price and reviews\n",
        "3. No Strong Predictors for Price\n",
        "\n",
        "While correlation doesn’t imply causation, these insights suggest inefficiencies in pricing and availability strategies that can contribute to negative growth, especially in terms of reduced occupancy, lower revenue, or loss of customer trust. Addressing these through better data-driven decision-making can reverse such trends."
      ],
      "metadata": {
        "id": "_WtzZ_hCYuh4"
      }
    },
    {
      "cell_type": "markdown",
      "source": [
        "#### Chart - 6"
      ],
      "metadata": {
        "id": "OH-pJp9IphqM"
      }
    },
    {
      "cell_type": "code",
      "source": [
        "# Chart - 6 visualization code\n",
        "# Cap the price to 500 for better visualization (as per your previous request)\n",
        "data['price'] = data['price'].clip(upper=500)\n",
        "\n",
        "# Create scatter plot\n",
        "plt.figure(figsize=(10, 6))\n",
        "sns.scatterplot(x='price', y='number_of_reviews', data=data, alpha=0.6, edgecolor=None)\n",
        "\n",
        "# Add labels and title\n",
        "plt.title('Scatter Plot: Price vs Number of Reviews', fontsize=16)\n",
        "plt.xlabel('Price ($)', fontsize=12)\n",
        "plt.ylabel('Number of Reviews', fontsize=12)\n",
        "\n",
        "# Show plot\n",
        "plt.show()"
      ],
      "metadata": {
        "id": "kuRf4wtuphqN"
      },
      "execution_count": null,
      "outputs": []
    },
    {
      "cell_type": "markdown",
      "source": [
        "##### 1. Why did you pick the specific chart?"
      ],
      "metadata": {
        "id": "bbFf2-_FphqN"
      }
    },
    {
      "cell_type": "markdown",
      "source": [
        "Answer Here.The scatter plot of Price vs. Number of Reviews was chosen because it helps reveal patterns and relationships between two key numerical variables in the Airbnb dataset:"
      ],
      "metadata": {
        "id": "loh7H2nzphqN"
      }
    },
    {
      "cell_type": "markdown",
      "source": [
        "##### 2. What is/are the insight(s) found from the chart?"
      ],
      "metadata": {
        "id": "_ouA3fa0phqN"
      }
    },
    {
      "cell_type": "markdown",
      "source": [
        "Answer Here- The scatter plot reveals that lower-priced listings generally attract more bookings (and reviews), while higher-priced listings struggle to gain traction. This has strong implications for pricing strategies and market targeting in the Airbnb ecosystem."
      ],
      "metadata": {
        "id": "VECbqPI7phqN"
      }
    },
    {
      "cell_type": "markdown",
      "source": [
        "##### 3. Will the gained insights help creating a positive business impact?\n",
        "Are there any insights that lead to negative growth? Justify with specific reason."
      ],
      "metadata": {
        "id": "Seke61FWphqN"
      }
    },
    {
      "cell_type": "markdown",
      "source": [
        "Answer Here- Yes — the insights can significantly help create a positive business impact by informing strategic decisions in the following ways:\n",
        "\n",
        "* Optimal Pricing Strategy-Hosts can adjust their prices within this optimal range to maximize bookings and visibility, especially in competitive areas.\n",
        "\n",
        "* Improve Booking Frequency- Understanding this allows hosts to balance pricing with occupancy rates, increasing overall revenue per month, even at slightly lower nightly prices.\n",
        "\n",
        "\n",
        "\n",
        "Overpricing without added value reduces demand.\n",
        "\n",
        "Lack of reviews leads to low visibility and bookings.\n",
        "\n",
        "Price sensitivity can cause abrupt declines in customer interest beyond certain thresholds.\n",
        "\n",
        "These factors can cause listings or even the platform’s overall growth to decline if not managed properly."
      ],
      "metadata": {
        "id": "DW4_bGpfphqN"
      }
    },
    {
      "cell_type": "markdown",
      "source": [
        "#### Chart - 7"
      ],
      "metadata": {
        "id": "PIIx-8_IphqN"
      }
    },
    {
      "cell_type": "code",
      "source": [
        "# Chart - 7 visualization code\n",
        "#distribution of review counts,\n",
        "plt.figure(figsize=(10,6))\n",
        "plt.hist(data['number_of_reviews'], bins=50, color='skyblue', edgecolor='black')\n",
        "plt.title('Distribution of Number of Reviews')\n",
        "plt.xlabel('Number of Reviews')\n",
        "plt.ylabel('Count of Listings')\n",
        "plt.show()"
      ],
      "metadata": {
        "id": "lqAIGUfyphqO"
      },
      "execution_count": null,
      "outputs": []
    },
    {
      "cell_type": "markdown",
      "source": [
        "##### 1. Why did you pick the specific chart?"
      ],
      "metadata": {
        "id": "t27r6nlMphqO"
      }
    },
    {
      "cell_type": "markdown",
      "source": [
        "Answer Here. because distribution of review counts, helps spot popular vs. less popular listings.\n"
      ],
      "metadata": {
        "id": "iv6ro40sphqO"
      }
    },
    {
      "cell_type": "markdown",
      "source": [
        "##### 2. What is/are the insight(s) found from the chart?"
      ],
      "metadata": {
        "id": "r2jJGEOYphqO"
      }
    },
    {
      "cell_type": "markdown",
      "source": [
        "Answer Here\n",
        "\n",
        "•\tMost listings have a low number of reviews, indicating many are either new or less frequently booked.\n",
        "\n",
        "•\tA small number of listings have very high reviews, showing a few popular properties attract most guests.\n",
        "\n",
        "•\tThis skewed distribution suggests that boosting reviews for less popular listings could improve overall bookings.\n"
      ],
      "metadata": {
        "id": "Po6ZPi4hphqO"
      }
    },
    {
      "cell_type": "markdown",
      "source": [
        "##### 3. Will the gained insights help creating a positive business impact?\n",
        "Are there any insights that lead to negative growth? Justify with specific reason."
      ],
      "metadata": {
        "id": "b0JNsNcRphqO"
      }
    },
    {
      "cell_type": "markdown",
      "source": [
        "Answer Here-\n",
        "* Identifying listings with low reviews can help Airbnb or hosts focus on improving visibility, offering discounts, or improving services to boost reviews.\n",
        "* Increasing reviews often leads to increased trust and higher booking rates, which contributes to revenue growth.\n",
        "\n",
        "* A large number of listings have very few or zero reviews, indicating low booking activity.\n",
        "* Justification: Listings with no social proof (reviews) are less likely to be booked, leading to lost revenue opportunities and user distrust."
      ],
      "metadata": {
        "id": "xvSq8iUTphqO"
      }
    },
    {
      "cell_type": "markdown",
      "source": [
        "#### Chart - 8"
      ],
      "metadata": {
        "id": "BZR9WyysphqO"
      }
    },
    {
      "cell_type": "code",
      "source": [
        "# Chart - 8 visualization code\n",
        "#Distribution of Availability (days/year)\n",
        "plt.figure(figsize=(10,6))\n",
        "sns.histplot(data['availability_365'], bins=30, kde=False, color='orange')\n",
        "plt.title('Distribution of Availability (days/year)')\n",
        "plt.xlabel('Days Available')\n",
        "plt.ylabel('Number of Listings')\n",
        "plt.show()"
      ],
      "metadata": {
        "id": "TdPTWpAVphqO"
      },
      "execution_count": null,
      "outputs": []
    },
    {
      "cell_type": "markdown",
      "source": [
        "##### 1. Why did you pick the specific chart?"
      ],
      "metadata": {
        "id": "jj7wYXLtphqO"
      }
    },
    {
      "cell_type": "markdown",
      "source": [
        "Answer Here.Beacause helps understand market supply stability, seasonality and days availability."
      ],
      "metadata": {
        "id": "Ob8u6rCTphqO"
      }
    },
    {
      "cell_type": "markdown",
      "source": [
        "##### 2. What is/are the insight(s) found from the chart?"
      ],
      "metadata": {
        "id": "eZrbJ2SmphqO"
      }
    },
    {
      "cell_type": "markdown",
      "source": [
        "Answer Here-\n",
        " * Many listings are available for all or most days of the year (close to 365), indicating long-term rentals or year-round availability.\n",
        "\n",
        " * There’s also a significant number of listings with very low availability, possibly seasonal or part-time hosts.\n",
        "\n",
        " * Helps understand market supply stability and seasonality."
      ],
      "metadata": {
        "id": "mZtgC_hjphqO"
      }
    },
    {
      "cell_type": "markdown",
      "source": [
        "##### 3. Will the gained insights help creating a positive business impact?\n",
        "Are there any insights that lead to negative growth? Justify with specific reason."
      ],
      "metadata": {
        "id": "rFu4xreNphqO"
      }
    },
    {
      "cell_type": "markdown",
      "source": [
        "Answer Here- The gained insights help creating a positive business impact are following-\n",
        "\n",
        "* Reveals underutilized listings that could be activated more frequently.\n",
        "\n",
        "* Helps Airbnb predict seasonal inventory and plan promotions accordingly.\n",
        "\n",
        "* Supports better planning for supply in high-demand seasons or areas.\n",
        "\n",
        "Negative Growth Insight:\n",
        "\n",
        "* A large number of listings are not available for most of the year.\n",
        "\n",
        "* Justification: This underutilization limits inventory, reducing Airbnb’s ability to meet demand, especially in peak seasons. It may also frustrate users who can’t find available places."
      ],
      "metadata": {
        "id": "ey_0qi68phqO"
      }
    },
    {
      "cell_type": "markdown",
      "source": [
        "#### Chart - 9"
      ],
      "metadata": {
        "id": "YJ55k-q6phqO"
      }
    },
    {
      "cell_type": "code",
      "source": [
        "# Chart - 9 visualization code\n",
        "#Price Distribution by Room Type\n",
        "plt.figure(figsize=(10,6))\n",
        "sns.boxplot(x='room_type', y='price', data=data[data['price']<=500])  # cap price at 500 for better view\n",
        "plt.title('Price Distribution by Room Type')\n",
        "plt.xlabel('Room Type')\n",
        "plt.ylabel('Price')\n",
        "plt.show()"
      ],
      "metadata": {
        "id": "B2aS4O1ophqO"
      },
      "execution_count": null,
      "outputs": []
    },
    {
      "cell_type": "markdown",
      "source": [
        "##### 1. Why did you pick the specific chart?"
      ],
      "metadata": {
        "id": "gCFgpxoyphqP"
      }
    },
    {
      "cell_type": "markdown",
      "source": [
        "Answer Here. Beacuase this helps understand price expectations per room type and identify overpriced listings."
      ],
      "metadata": {
        "id": "TVxDimi2phqP"
      }
    },
    {
      "cell_type": "markdown",
      "source": [
        "##### 2. What is/are the insight(s) found from the chart?"
      ],
      "metadata": {
        "id": "OVtJsKN_phqQ"
      }
    },
    {
      "cell_type": "markdown",
      "source": [
        "Answer Here-\n",
        "* Entire homes/apartments generally command higher prices than private or shared rooms.\n",
        "\n",
        "* Shared rooms have the lowest median price and tighter price range.\n",
        "\n",
        "* There are many outliers with very high prices in all room types, especially entire homes.\n",
        "\n",
        "* This helps understand price expectations per room type and identify overpriced listings."
      ],
      "metadata": {
        "id": "ngGi97qjphqQ"
      }
    },
    {
      "cell_type": "markdown",
      "source": [
        "##### 3. Will the gained insights help creating a positive business impact?\n",
        "Are there any insights that lead to negative growth? Justify with specific reason."
      ],
      "metadata": {
        "id": "lssrdh5qphqQ"
      }
    },
    {
      "cell_type": "markdown",
      "source": [
        "Answer Here- Business Impact:\n",
        "\n",
        "* Helps hosts price competitively within their room category, maximizing occupancy without undervaluing.\n",
        "\n",
        "* Airbnb can recommend optimal price ranges based on data, improving conversion rates.\n",
        "\n",
        "* Can guide investment in higher-yield room types (e.g., Entire home vs. Shared room).\n",
        "\n",
        "Negative Growth Insight:\n",
        "\n",
        "* Outliers with extremely high prices in certain room types (e.g., Shared Rooms) can deter users.\n",
        "\n",
        "* Justification: Unjustifiably high prices reduce competitiveness and booking rates, possibly pushing users to other platforms."
      ],
      "metadata": {
        "id": "tBpY5ekJphqQ"
      }
    },
    {
      "cell_type": "markdown",
      "source": [
        "#### Chart - 10"
      ],
      "metadata": {
        "id": "U2RJ9gkRphqQ"
      }
    },
    {
      "cell_type": "code",
      "source": [
        "# Chart - 10 visualization code\n",
        "#Top 10 Neighbourhoods by Number of Listings\n",
        "top_neighbourhoods = data['neighbourhood'].value_counts().head(10)\n",
        "\n",
        "plt.figure(figsize=(12,6))\n",
        "sns.barplot(x=top_neighbourhoods.values, y=top_neighbourhoods.index, palette='viridis')\n",
        "plt.title('Top 10 Neighbourhoods by Number of Listings')\n",
        "plt.xlabel('Number of Listings')\n",
        "plt.ylabel('Neighbourhood')\n",
        "plt.show()"
      ],
      "metadata": {
        "id": "GM7a4YP4phqQ"
      },
      "execution_count": null,
      "outputs": []
    },
    {
      "cell_type": "markdown",
      "source": [
        "##### 1. Why did you pick the specific chart?"
      ],
      "metadata": {
        "id": "1M8mcRywphqQ"
      }
    },
    {
      "cell_type": "markdown",
      "source": [
        "Answer Here. Because neighborhoods dominate the market with the highest number of listings, likely popular tourist or business areas."
      ],
      "metadata": {
        "id": "8agQvks0phqQ"
      }
    },
    {
      "cell_type": "markdown",
      "source": [
        "##### 2. What is/are the insight(s) found from the chart?"
      ],
      "metadata": {
        "id": "tgIPom80phqQ"
      }
    },
    {
      "cell_type": "markdown",
      "source": [
        "Answer Here-\n",
        "* Certain neighborhoods dominate the market with the highest number of listings, likely popular tourist or business areas.\n",
        "\n",
        "* Concentration of listings can lead to intense competition within these neighborhoods.\n",
        "\n",
        "* Knowing this helps hosts understand where supply is dense, which could affect pricing strategies."
      ],
      "metadata": {
        "id": "Qp13pnNzphqQ"
      }
    },
    {
      "cell_type": "markdown",
      "source": [
        "##### 3. Will the gained insights help creating a positive business impact?\n",
        "Are there any insights that lead to negative growth? Justify with specific reason."
      ],
      "metadata": {
        "id": "JMzcOPDDphqR"
      }
    },
    {
      "cell_type": "markdown",
      "source": [
        "Answer Here- Business Impact:\n",
        "\n",
        "* Identifies hotspots of activity where Airbnb can focus marketing or infrastructure improvements.\n",
        "\n",
        "* Helps potential hosts choose high-demand areas for new listings.\n",
        "\n",
        "* Airbnb can avoid oversaturation and optimize guest distribution across the city.\n",
        "\n",
        "Negative Growth Insight:\n",
        "\n",
        "* Overconcentration of listings in certain neighbourhoods.\n",
        "\n",
        "* Justification: This may lead to market saturation, driving down occupancy and price, while neglecting other potentially profitable areas."
      ],
      "metadata": {
        "id": "R4Ka1PC2phqR"
      }
    },
    {
      "cell_type": "markdown",
      "source": [
        "#### Chart - 11"
      ],
      "metadata": {
        "id": "x-EpHcCOp1ci"
      }
    },
    {
      "cell_type": "code",
      "source": [
        "# Chart - 11 visualization code\n",
        "# Price Distribution by Neighbourhood Group\n",
        "plt.figure(figsize=(10,6))\n",
        "sns.violinplot(x='neighbourhood_group', y='price', data=data[data['price']<=500])\n",
        "plt.title('Price Distribution by Neighbourhood Group')\n",
        "plt.xlabel('Neighbourhood Group')\n",
        "plt.ylabel('Price')\n",
        "plt.show()"
      ],
      "metadata": {
        "id": "mAQTIvtqp1cj"
      },
      "execution_count": null,
      "outputs": []
    },
    {
      "cell_type": "markdown",
      "source": [
        "##### 1. Why did you pick the specific chart?"
      ],
      "metadata": {
        "id": "X_VqEhTip1ck"
      }
    },
    {
      "cell_type": "markdown",
      "source": [
        "Answer Here. Because this reveals geographical pricing patterns and can help guide both hosts and guests about expected costs in different boroughs."
      ],
      "metadata": {
        "id": "-vsMzt_np1ck"
      }
    },
    {
      "cell_type": "markdown",
      "source": [
        "##### 2. What is/are the insight(s) found from the chart?"
      ],
      "metadata": {
        "id": "8zGJKyg5p1ck"
      }
    },
    {
      "cell_type": "markdown",
      "source": [
        "Answer Here-\n",
        " * Prices in Manhattan tend to be higher and more spread out compared to other boroughs.\n",
        "\n",
        "* Staten Island listings have lower and tighter price distributions.\n",
        "\n",
        "* Brooklyn and Queens have moderate prices with a reasonable spread.\n",
        "\n",
        "* This reveals geographical pricing patterns and can help guide both hosts and guests about expected costs in different boroughs."
      ],
      "metadata": {
        "id": "ZYdMsrqVp1ck"
      }
    },
    {
      "cell_type": "markdown",
      "source": [
        "##### 3. Will the gained insights help creating a positive business impact?\n",
        "Are there any insights that lead to negative growth? Justify with specific reason."
      ],
      "metadata": {
        "id": "PVzmfK_Ep1ck"
      }
    },
    {
      "cell_type": "markdown",
      "source": [
        "Answer Here- Business Impact:\n",
        "\n",
        "* Enables better pricing recommendations by location, improving host earnings and guest satisfaction.\n",
        "\n",
        "* Airbnb can detect and address pricing anomalies, ensuring fair pricing across regions.\n",
        "\n",
        "* Guests get realistic expectations, improving booking confidence and retention.\n",
        "\n",
        "Negative Growth Insight:\n",
        "\n",
        "* High price variability in some neighbourhoods (e.g., Bronx) may confuse or deter customers.\n",
        "\n",
        "* Justification: Inconsistent pricing without justification can erode customer trust and reduce booking confidence, especially in less popular areas."
      ],
      "metadata": {
        "id": "druuKYZpp1ck"
      }
    },
    {
      "cell_type": "markdown",
      "source": [
        "#### Chart - 12"
      ],
      "metadata": {
        "id": "n3dbpmDWp1ck"
      }
    },
    {
      "cell_type": "code",
      "source": [
        "# Chart - 12 visualization code\n",
        "#Minimum nights vs price\n",
        "plt.figure(figsize=(8, 4))\n",
        "sns.scatterplot(data=data, x='minimum_nights', y='price', alpha=0.3)\n",
        "plt.xlim(0, 30)\n",
        "plt.ylim(0, 500)\n",
        "plt.title('Minimum Nights vs Price')\n",
        "plt.show()"
      ],
      "metadata": {
        "id": "bwevp1tKp1ck"
      },
      "execution_count": null,
      "outputs": []
    },
    {
      "cell_type": "markdown",
      "source": [
        "##### 1. Why did you pick the specific chart?"
      ],
      "metadata": {
        "id": "ylSl6qgtp1ck"
      }
    },
    {
      "cell_type": "markdown",
      "source": [
        "Answer Here. Because its' showing policies affect price perception."
      ],
      "metadata": {
        "id": "m2xqNkiQp1ck"
      }
    },
    {
      "cell_type": "markdown",
      "source": [
        "##### 2. What is/are the insight(s) found from the chart?"
      ],
      "metadata": {
        "id": "ZWILFDl5p1ck"
      }
    },
    {
      "cell_type": "markdown",
      "source": [
        "Answer Here-\n",
        "* Optimizing minimum stay policy can attract more short-term tourists.\n",
        "\n",
        "* No clear trend, but listings requiring more nights may lose budget-conscious short-stay travelers."
      ],
      "metadata": {
        "id": "x-lUsV2mp1ck"
      }
    },
    {
      "cell_type": "markdown",
      "source": [
        "##### 3. Will the gained insights help creating a positive business impact?\n",
        "Are there any insights that lead to negative growth? Justify with specific reason."
      ],
      "metadata": {
        "id": "M7G43BXep1ck"
      }
    },
    {
      "cell_type": "markdown",
      "source": [
        "Answer Here- Business implication: Long minimum stays could discourage high-paying short-term tourists.\n",
        "\n",
        "Negative Signal: Expensive listings sometimes demand long minimum stays (> 7 nights)\n",
        "\n",
        "Reason: High-value properties become inaccessible to short-stay tourists, reducing total booking volume for that segment."
      ],
      "metadata": {
        "id": "5wwDJXsLp1cl"
      }
    },
    {
      "cell_type": "markdown",
      "source": [
        "#### Chart - 13"
      ],
      "metadata": {
        "id": "Ag9LCva-p1cl"
      }
    },
    {
      "cell_type": "code",
      "source": [
        "# Chart - 13 visualization code\n",
        "#Pairplot of selected variables\n",
        "sns.pairplot(data[['price', 'minimum_nights', 'number_of_reviews', 'availability_365']])\n",
        "plt.suptitle(\"Pairplot of Key Variables\", y=1.02)\n",
        "plt.show()"
      ],
      "metadata": {
        "id": "EUfxeq9-p1cl"
      },
      "execution_count": null,
      "outputs": []
    },
    {
      "cell_type": "markdown",
      "source": [
        "##### 1. Why did you pick the specific chart?"
      ],
      "metadata": {
        "id": "E6MkPsBcp1cl"
      }
    },
    {
      "cell_type": "markdown",
      "source": [
        "Answer Here. Beacuse its' showing Distributions of individual variables (diagonal plots)."
      ],
      "metadata": {
        "id": "V22bRsFWp1cl"
      }
    },
    {
      "cell_type": "markdown",
      "source": [
        "##### 2. What is/are the insight(s) found from the chart?"
      ],
      "metadata": {
        "id": "2cELzS2fp1cl"
      }
    },
    {
      "cell_type": "markdown",
      "source": [
        "Answer Here-\n",
        "Insight:\n",
        "* Confirmed variance and outliers in price.\n",
        "\n",
        "* Some weak patterns in availability and reviews."
      ],
      "metadata": {
        "id": "ozQPc2_Ip1cl"
      }
    },
    {
      "cell_type": "markdown",
      "source": [
        "##### 3. Will the gained insights help creating a positive business impact?\n",
        "Are there any insights that lead to negative growth? Justify with specific reason."
      ],
      "metadata": {
        "id": "3MPXvC8up1cl"
      }
    },
    {
      "cell_type": "markdown",
      "source": [
        "Answer Here- Business implication: Normalize price outliers to improve analytics and comparison.\n",
        "\n",
        "Negative Signal: Extreme outliers in price and availability\n",
        "\n",
        "Reason: Data noise from outliers distorts model training for recommendations or pricing, leading to suboptimal automations."
      ],
      "metadata": {
        "id": "GL8l1tdLp1cl"
      }
    },
    {
      "cell_type": "markdown",
      "source": [
        "#### Chart - 14 - Correlation Heatmap"
      ],
      "metadata": {
        "id": "NC_X3p0fY2L0"
      }
    },
    {
      "cell_type": "code",
      "source": [
        "# Correlation Heatmap visualization code\n",
        "# Bubble plot (Price vs Reviews, bubble size = availability)\n",
        "plt.figure(figsize=(10, 6))\n",
        "sns.scatterplot(data=data[data['price'] < 500], x='number_of_reviews', y='price',\n",
        "                size='availability_365', hue='room_type', alpha=0.5)\n",
        "plt.title('Bubble Plot: Reviews vs Price')\n",
        "plt.show()"
      ],
      "metadata": {
        "id": "xyC9zolEZNRQ"
      },
      "execution_count": null,
      "outputs": []
    },
    {
      "cell_type": "markdown",
      "source": [
        "##### 1. Why did you pick the specific chart?"
      ],
      "metadata": {
        "id": "UV0SzAkaZNRQ"
      }
    },
    {
      "cell_type": "markdown",
      "source": [
        "Answer Here. Because its' showing that Hosts may not be optimizing availability and pricing together."
      ],
      "metadata": {
        "id": "DVPuT8LYZNRQ"
      }
    },
    {
      "cell_type": "markdown",
      "source": [
        "##### 2. What is/are the insight(s) found from the chart?"
      ],
      "metadata": {
        "id": "YPEH6qLeZNRQ"
      }
    },
    {
      "cell_type": "markdown",
      "source": [
        "Answer Here- Insight: Larger bubbles (more available) aren’t always higher priced.\n",
        "\n",
        "Some affordable listings are also available all year and highly reviewed.\n",
        "\n",
        "Business implication: These are top performers. Recommend similar practices to other hosts.\n",
        "\n"
      ],
      "metadata": {
        "id": "bfSqtnDqZNRR"
      }
    },
    {
      "cell_type": "markdown",
      "source": [
        "#### Chart - 15 - Pair Plot"
      ],
      "metadata": {
        "id": "q29F0dvdveiT"
      }
    },
    {
      "cell_type": "code",
      "source": [
        "# Pair Plot visualization code\n",
        "#Filter for relevant numeric and categorical features\n",
        "selected_features = ['price', 'minimum_nights', 'number_of_reviews', 'availability_365', 'room_type']\n",
        "\n",
        "# Clean up extreme outliers (optional, for better visibility)\n",
        "data_filtered = data[data['price'] < 500]  # Adjust threshold as needed\n",
        "\n",
        "# Plot\n",
        "sns.pairplot(data_filtered[selected_features], hue='room_type', plot_kws={'alpha': 0.6})\n",
        "plt.suptitle(\"Pairplot of Key Variables by Room Type\", y=1.02)\n",
        "plt.show()"
      ],
      "metadata": {
        "id": "o58-TEIhveiU"
      },
      "execution_count": null,
      "outputs": []
    },
    {
      "cell_type": "markdown",
      "source": [
        "##### 1. Why did you pick the specific chart?"
      ],
      "metadata": {
        "id": "EXh0U9oCveiU"
      }
    },
    {
      "cell_type": "markdown",
      "source": [
        "Answer Here.Reason for Choosing This Plot\n",
        "\n",
        "* Adds segmentation and clarity on group-wise patterns.\n",
        "\n",
        "* Combines 4 key metrics affecting Airbnb performance.\n",
        "\n",
        "* Easy to spot dead zones and high performers.\n",
        "\n",
        "* Directly maps to monetization, engagement, and operations.\n",
        "\n",
        "* Offers maximum insights from a single figure"
      ],
      "metadata": {
        "id": "eMmPjTByveiU"
      }
    },
    {
      "cell_type": "markdown",
      "source": [
        "##### 2. What is/are the insight(s) found from the chart?"
      ],
      "metadata": {
        "id": "22aHeOlLveiV"
      }
    },
    {
      "cell_type": "markdown",
      "source": [
        "Answer Here-  \n",
        "\n",
        "* Private rooms are low-priced, highly available, and have the most reviews → strong demand segment.\n",
        "\n",
        "* Entire homes are often expensive with fewer reviews → many may be underperforming or new.\n",
        "\n",
        "* Listings with high minimum nights and high prices are rarely reviewed → unattractive to guests.\n",
        "\n",
        "* Shared rooms are cheap and widely available but have low reviews → possible oversupply or low interest.\n",
        "\n",
        "* High availability + low reviews signals inactive or unpopular listings → needs re-evaluation or delisting."
      ],
      "metadata": {
        "id": "uPQ8RGwHveiV"
      }
    },
    {
      "cell_type": "markdown",
      "source": [
        "## **5. Solution to Business Objective**"
      ],
      "metadata": {
        "id": "JcMwzZxoAimU"
      }
    },
    {
      "cell_type": "markdown",
      "source": [
        "#### What do you suggest the client to achieve Business Objective ?\n",
        "Explain Briefly."
      ],
      "metadata": {
        "id": "8G2x9gOozGDZ"
      }
    },
    {
      "cell_type": "markdown",
      "source": [
        "Answer Here.To help the client (Airbnb or host managers) achieve their business objectives—maximize bookings, revenue, and customer satisfaction—I suggest the following 10 strategic programs:\n",
        "\n",
        "* Dynamic Pricing Strategy – Use pricing algorithms to optimize for demand by borough, season, and room type.\n",
        "\n",
        "* Minimum Stay Optimization – Reduce high minimum night policies on underperforming listings to increase bookings.\n",
        "\n",
        "* Listing Quality Boost – Improve descriptions, photos, and responsiveness to convert more views to bookings.\n",
        "\n",
        "* Inactive Listing Audit – Identify and remove or improve listings with high availability but low reviews.\n",
        "\n",
        "* Promote High-Performers – Give more visibility to private rooms and mid-priced homes with great reviews.\n",
        "\n",
        "* Targeted Marketing by Borough – Run campaigns in high-traffic areas like Manhattan for premium bookings.\n",
        "\n",
        "* Review Encouragement Program – Incentivize guests to leave reviews to build trust and ranking.\n",
        "\n",
        "* Host Education Program – Train hosts on best practices for pricing, availability, and communication.\n",
        "\n",
        "* Room Type Rebalancing – Decrease supply of low-performing shared rooms; invest more in private or entire homes.\n",
        "\n",
        "* Data Monitoring Dashboard – Use real-time dashboards to track listing performance and take quick action."
      ],
      "metadata": {
        "id": "pASKb0qOza21"
      }
    },
    {
      "cell_type": "markdown",
      "source": [
        "# **Conclusion**"
      ],
      "metadata": {
        "id": "gCX9965dhzqZ"
      }
    },
    {
      "cell_type": "markdown",
      "source": [
        "Write the conclusion here. In conclusion, the comprehensive analysis of the Airbnb NYC 2019 dataset reveals clear opportunities to boost performance through data-driven strategies. By optimizing pricing, adjusting restrictive booking policies, improving listing quality, and segmenting inventory based on performance, the business can enhance both occupancy and revenue. Targeted actions—such as auditing underperforming listings, promoting high-value segments, and training hosts—will improve guest satisfaction and conversion rates. With a strong foundation in exploratory analysis and visual insights, these programs form a cohesive roadmap to streamline operations, reduce revenue leakage, and achieve sustainable business growth in a competitive rental market."
      ],
      "metadata": {
        "id": "Fjb1IsQkh3yE"
      }
    },
    {
      "cell_type": "markdown",
      "source": [
        "### ***Hurrah! You have successfully completed your EDA Capstone Project !!!***"
      ],
      "metadata": {
        "id": "gIfDvo9L0UH2"
      }
    }
  ]
}